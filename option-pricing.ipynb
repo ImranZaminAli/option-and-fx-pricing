{
 "cells": [
  {
   "cell_type": "markdown",
   "metadata": {},
   "source": [
    "# Black scholes vs Monte Carlo for option pricing"
   ]
  },
  {
   "cell_type": "code",
   "execution_count": 25,
   "metadata": {},
   "outputs": [],
   "source": [
    "import numpy as np\n",
    "import scipy.stats as stats\n",
    "from matplotlib import pyplot as plt"
   ]
  },
  {
   "cell_type": "markdown",
   "metadata": {},
   "source": [
    "## Black-Scholes Equation for call options\n"
   ]
  },
  {
   "cell_type": "markdown",
   "metadata": {},
   "source": [
    "\n",
    "$C(S, t) = N(d_1)S - N(d_2)Ke^{-r(T-t)}$\n",
    "\n",
    "where:\n",
    "\n",
    "$d_1 = \\frac{\\ln(S/K) + \\left(r + \\frac{\\sigma^2}{2}\\right)(T - t)}{\\sigma \\sqrt{T - t}}$\n",
    "\n",
    "$d_2 = d_1 - \\sigma \\sqrt{T - t}$\n"
   ]
  },
  {
   "cell_type": "markdown",
   "metadata": {},
   "source": [
    "### Variables in the Black-Scholes Equation\n",
    "\n",
    "- $C(S, t)$: The price of the call option at time $t$, given the stock price $S$.\n",
    "- $S$: The current price of the underlying stock.\n",
    "- $K$: The strike price of the option, i.e., the price at which the option can be exercised.\n",
    "- $T$: The time to maturity of the option, expressed in years.\n",
    "- $t$: The current time, expressed in years.\n",
    "- $r$: The risk-free interest rate, assumed to be constant over the life of the option.\n",
    "- $\\sigma$: The volatility of the stock's returns, a measure of how much the stock price fluctuates.\n",
    "- $N(d_1)$ and $N(d_2)$: The cumulative distribution functions of the standard normal distribution for $d_1$ and $d_2$, representing probabilities."
   ]
  },
  {
   "cell_type": "code",
   "execution_count": 13,
   "metadata": {},
   "outputs": [],
   "source": [
    "def calculate_d1_d2(\n",
    "    current_price, \n",
    "    strike_price, \n",
    "    risk_free_rate, \n",
    "    volatility, \n",
    "    time_to_maturity):\n",
    "    # Log term: Represents the natural logarithm of the ratio of the current stock price to the strike price\n",
    "    log_term = np.log(current_price / strike_price)\n",
    "    \n",
    "    # Drift term: Accounts for the expected return of the stock, adjusted for risk-free rate and volatility\n",
    "    drift_term = (risk_free_rate + 0.5 * volatility ** 2)\n",
    "\n",
    "    # Scale the volatility by the square root of the time term\n",
    "    time_scaled_volatility = volatility * time_to_maturity\n",
    "\n",
    "    d1 = (log_term + drift_term * time_to_maturity) / time_scaled_volatility\n",
    "\n",
    "    d2 = d1 - time_scaled_volatility\n",
    "    return d1, d2\n",
    "    "
   ]
  },
  {
   "cell_type": "code",
   "execution_count": 14,
   "metadata": {},
   "outputs": [],
   "source": [
    "def black_scholes(\n",
    "    current_price, \n",
    "    strike_price, \n",
    "    risk_free_rate, \n",
    "    volatility, \n",
    "    time_to_maturity):\n",
    "    d1, d2 = calculate_d1_d2(current_price, strike_price, risk_free_rate, volatility, time_to_maturity)\n",
    "    \n",
    "    n_d1 = stats.norm.cdf(d1)  # Cumulative distribution function for d1\n",
    "    n_d2 = stats.norm.cdf(d2)  # Cumulative distribution function for d2\n",
    "\n",
    "    # Calculate the Black-Scholes price\n",
    "    call_price = (current_price * n_d1) - (strike_price * np.exp(-risk_free_rate * time_to_maturity) * n_d2)\n",
    "    \n",
    "    return call_price\n",
    "    "
   ]
  },
  {
   "cell_type": "markdown",
   "metadata": {},
   "source": [
    "## Monte Carlo"
   ]
  },
  {
   "cell_type": "markdown",
   "metadata": {},
   "source": [
    "Black scholes assumes the underlying asset follows a geometric Brownian motion:\n",
    "\n",
    "\\begin{equation*}\n",
    "dS_t = rS_t dt + \\sigma S_t dW_t\n",
    "\\end{equation*}\n",
    "\n",
    "where:\n",
    "- $S_t$ is the price of the underlying asset at time $t$\n",
    "- $r$ is the risk-free interest rate\n",
    "- $\\sigma$ is the volatility of the asset\n",
    "- $dW_t$ is a Wiener process (or Brownian motion)\n",
    "\n",
    "Intuitively this means that the price of the asset changes over time due to a predicatble drift and random noise."
   ]
  },
  {
   "cell_type": "markdown",
   "metadata": {},
   "source": [
    "### Risk neutral pricing\n",
    "\n",
    "Assuming no arbitrage there exists a risk neutral measure $\\mathbb{Q}$ under which discounted price process is a matingale such that:\n",
    "\n",
    "\\begin{equation*}\n",
    "C(S_0,K,T) = e^{-rT}\\mathbb{E}^\\mathbb{Q}[\\max(S_T-K, 0)]\n",
    "\\end{equation*}\n",
    "\n",
    "where:\n",
    "\n",
    "- $C(S_0,K,T)$: The price of the call option at time $t=0$ with strike price $K$ and maturity $T$.  \n",
    "- $S_T$: The price of the underlying asset at maturity $T$.  \n",
    "- $K$: The strike price of the option.  \n",
    "- $r$: The risk-free interest rate.  \n",
    "- $\\mathbb{E}^\\mathbb{Q}$: The expectation under the risk-neutral measure $\\mathbb{Q}$.  "
   ]
  },
  {
   "cell_type": "markdown",
   "metadata": {},
   "source": [
    "- **Risk Neutral Measure ($\\mathbb{Q}$):**  \n",
    "    A probability measure under which the present value of all discounted future cash flows is equal to their current market price. In this measure, all assets are assumed to grow at the risk-free rate, making it easier to price derivatives without considering investors' risk preferences.\n",
    "\n",
    "- **Martingale:**  \n",
    "    A stochastic process where the expected value of the next observation, given all past observations, is equal to the current value. Under the risk-neutral measure, the discounted price process of an asset is a martingale, meaning it has no predictable trend other than the risk-free rate."
   ]
  },
  {
   "cell_type": "markdown",
   "metadata": {},
   "source": [
    "Under the rick-neutral measure the stock price follows a lognormal distrubution of:\n",
    "\n",
    "\\begin{equation*}\n",
    "S_t = S_0 \\exp{((r - 0.5 \\sigma ^ 2)T} + \\sigma \\sqrt{T} Z)\n",
    "\\end{equation*}\n",
    "\n",
    "where $Z \\sim N(0,1)$"
   ]
  },
  {
   "cell_type": "markdown",
   "metadata": {},
   "source": [
    "This means we can follow the follwing steps to price an option using a monte carlo approach:\n",
    "\n",
    "1. sample from $Z$\n",
    "2. calculate $S^i_T$\n",
    "3. Calculate the payoff $\\max{S^i_T - K, 0}\n",
    "4. average over all values of $i$ to get $\\mathbb{E}^\\mathbb{Q}$\n",
    "5. multiply by $e^{-rT}$"
   ]
  },
  {
   "cell_type": "code",
   "execution_count": 20,
   "metadata": {},
   "outputs": [],
   "source": [
    "# initial parameters\n",
    "\n",
    "S0 = 100  # Current stock price\n",
    "K = 100   # Strike price\n",
    "r = 0.05  # Risk-free interest rate (annualized)\n",
    "sigma = 0.2  # Volatility (annualized)\n",
    "T = 1  # Time to maturity in years"
   ]
  },
  {
   "cell_type": "code",
   "execution_count": 50,
   "metadata": {},
   "outputs": [],
   "source": [
    "def monte_carlo(S0 : int,\n",
    "               K : int,\n",
    "               r : float,\n",
    "               sigma : float,\n",
    "               T : float,\n",
    "               num_simulations : int = 15000):\n",
    "    \n",
    "    sum = 0.0\n",
    "    x_values = []\n",
    "    y_values = []\n",
    "    for i in range(num_simulations):\n",
    "\n",
    "        sample = np.random.normal(0, 1)\n",
    "\n",
    "        S_T = S0 * np.exp((r - 0.5 * sigma ** 2) * T + sigma * np.sqrt(T) * sample)\n",
    "        payoff = max(S_T - K, 0)\n",
    "        sum += payoff\n",
    "        call_price = np.exp(-r * T) * (sum / (i + 1))\n",
    "\n",
    "        x_values.append(i + 1)  # Number of simulations\n",
    "        y_values.append(call_price)  # Call option price\n",
    "\n",
    "    return x_values, y_values\n",
    "\n",
    "\n",
    "    \n"
   ]
  },
  {
   "cell_type": "code",
   "execution_count": 51,
   "metadata": {},
   "outputs": [
    {
     "name": "stdout",
     "output_type": "stream",
     "text": [
      "The Black-Scholes price of the call option is: 10.45058\n",
      "The Monte Carlo price of the call option is: 10.47730\n",
      "The percentage difference between Black-Scholes and Monte Carlo prices is: 0.25563%\n"
     ]
    },
    {
     "data": {
      "image/png": "[encoded data removed]",
      "text/plain": [
       "<Figure size 1000x600 with 1 Axes>"
      ]
     },
     "metadata": {},
     "output_type": "display_data"
    }
   ],
   "source": [
    "black_scholes_price = black_scholes(S0, K, r, sigma, T)\n",
    "x_values, y_values = monte_carlo(S0, K, r, sigma, T)\n",
    "monte_carlo_price = y_values[-1]\n",
    "print(f\"The Black-Scholes price of the call option is: {black_scholes_price:.5f}\")\n",
    "print(f\"The Monte Carlo price of the call option is: {monte_carlo_price:.5f}\")\n",
    "\n",
    "percentage_difference = abs(black_scholes_price - monte_carlo_price) / black_scholes_price * 100\n",
    "print(f\"The percentage difference between Black-Scholes and Monte Carlo prices is: {percentage_difference:.5f}%\")\n",
    "\n",
    "# Plotting the results\n",
    "plt.figure(figsize=(10, 6))\n",
    "plt.plot(x_values, y_values, label='Monte Carlo Call Price', color='blue')\n",
    "plt.axhline(y=black_scholes_price, color='red', linestyle='--', label='Black-Scholes Price')\n",
    "plt.title('Monte Carlo Simulation vs Black-Scholes Price')\n",
    "plt.xlabel('Number of Simulations')\n",
    "plt.ylabel('Call Option Price')\n",
    "plt.legend()\n",
    "plt.grid()\n",
    "plt.show()"
   ]
  }
 ],
 "metadata": {
  "kernelspec": {
   "display_name": "base",
   "language": "python",
   "name": "python3"
  },
  "language_info": {
   "codemirror_mode": {
    "name": "ipython",
    "version": 3
   },
   "file_extension": ".py",
   "mimetype": "text/x-python",
   "name": "python",
   "nbconvert_exporter": "python",
   "pygments_lexer": "ipython3",
   "version": "3.11.4"
  }
 },
 "nbformat": 4,
 "nbformat_minor": 2
}
